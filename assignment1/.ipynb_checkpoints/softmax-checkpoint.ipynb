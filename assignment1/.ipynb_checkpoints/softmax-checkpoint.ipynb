{
 "cells": [
  {
   "cell_type": "markdown",
   "metadata": {},
   "source": [
    "# Softmax exercise\n",
    "\n",
    "*Complete and hand in this completed worksheet (including its outputs and any supporting code outside of the worksheet) with your assignment submission. For more details see the [assignments page](http://vision.stanford.edu/teaching/cs231n/assignments.html) on the course website.*\n",
    "\n",
    "This exercise is analogous to the SVM exercise. You will:\n",
    "\n",
    "- implement a fully-vectorized **loss function** for the Softmax classifier\n",
    "- implement the fully-vectorized expression for its **analytic gradient**\n",
    "- **check your implementation** with numerical gradient\n",
    "- use a validation set to **tune the learning rate and regularization** strength\n",
    "- **optimize** the loss function with **SGD**\n",
    "- **visualize** the final learned weights\n"
   ]
  },
  {
   "cell_type": "code",
   "execution_count": 2,
   "metadata": {},
   "outputs": [],
   "source": [
    "import random\n",
    "import numpy as np\n",
    "from cs231n.data_utils import load_CIFAR10\n",
    "import matplotlib.pyplot as plt\n",
    "\n",
    "from __future__ import print_function\n",
    "\n",
    "%matplotlib inline\n",
    "plt.rcParams['figure.figsize'] = (10.0, 8.0) # set default size of plots\n",
    "plt.rcParams['image.interpolation'] = 'nearest'\n",
    "plt.rcParams['image.cmap'] = 'gray'\n",
    "\n",
    "# for auto-reloading extenrnal modules\n",
    "# see http://stackoverflow.com/questions/1907993/autoreload-of-modules-in-ipython\n",
    "%load_ext autoreload\n",
    "%autoreload 2"
   ]
  },
  {
   "cell_type": "code",
   "execution_count": 53,
   "metadata": {},
   "outputs": [
    {
     "name": "stdout",
     "output_type": "stream",
     "text": [
      "Clear previously loaded data.\n",
      "Train data shape:  (49000, 3073)\n",
      "Train labels shape:  (49000,)\n",
      "Validation data shape:  (1000, 3073)\n",
      "Validation labels shape:  (1000,)\n",
      "Test data shape:  (1000, 3073)\n",
      "Test labels shape:  (1000,)\n",
      "dev data shape:  (500, 3073)\n",
      "dev labels shape:  (500,)\n"
     ]
    }
   ],
   "source": [
    "def get_CIFAR10_data(num_training=49000, num_validation=1000, num_test=1000, num_dev=500):\n",
    "    \"\"\"\n",
    "    Load the CIFAR-10 dataset from disk and perform preprocessing to prepare\n",
    "    it for the linear classifier. These are the same steps as we used for the\n",
    "    SVM, but condensed to a single function.  \n",
    "    \"\"\"\n",
    "    # Load the raw CIFAR-10 data\n",
    "    cifar10_dir = 'cs231n/datasets/cifar-10-batches-py'\n",
    "    \n",
    "    X_train, y_train, X_test, y_test = load_CIFAR10(cifar10_dir)\n",
    "    \n",
    "    # subsample the data\n",
    "    mask = list(range(num_training, num_training + num_validation))\n",
    "    X_val = X_train[mask]\n",
    "    y_val = y_train[mask]\n",
    "    mask = list(range(num_training))\n",
    "    X_train = X_train[mask]\n",
    "    y_train = y_train[mask]\n",
    "    mask = list(range(num_test))\n",
    "    X_test = X_test[mask]\n",
    "    y_test = y_test[mask]\n",
    "    mask = np.random.choice(num_training, num_dev, replace=False)\n",
    "    X_dev = X_train[mask]\n",
    "    y_dev = y_train[mask]\n",
    "    \n",
    "    # Preprocessing: reshape the image data into rows\n",
    "    X_train = np.reshape(X_train, (X_train.shape[0], -1))\n",
    "    X_val = np.reshape(X_val, (X_val.shape[0], -1))\n",
    "    X_test = np.reshape(X_test, (X_test.shape[0], -1))\n",
    "    X_dev = np.reshape(X_dev, (X_dev.shape[0], -1))\n",
    "    \n",
    "    # Normalize the data: subtract the mean image\n",
    "    mean_image = np.mean(X_train, axis = 0)\n",
    "    X_train -= mean_image\n",
    "    X_val -= mean_image\n",
    "    X_test -= mean_image\n",
    "    X_dev -= mean_image\n",
    "    \n",
    "    # add bias dimension and transform into columns\n",
    "    X_train = np.hstack([X_train, np.ones((X_train.shape[0], 1))])\n",
    "    X_val = np.hstack([X_val, np.ones((X_val.shape[0], 1))])\n",
    "    X_test = np.hstack([X_test, np.ones((X_test.shape[0], 1))])\n",
    "    X_dev = np.hstack([X_dev, np.ones((X_dev.shape[0], 1))])\n",
    "    \n",
    "    return X_train, y_train, X_val, y_val, X_test, y_test, X_dev, y_dev\n",
    "\n",
    "\n",
    "# Cleaning up variables to prevent loading data multiple times (which may cause memory issue)\n",
    "try:\n",
    "   del X_train, y_train\n",
    "   del X_test, y_test\n",
    "   print('Clear previously loaded data.')\n",
    "except:\n",
    "   pass\n",
    "\n",
    "# Invoke the above function to get our data.\n",
    "X_train, y_train, X_val, y_val, X_test, y_test, X_dev, y_dev = get_CIFAR10_data()\n",
    "print('Train data shape: ', X_train.shape)\n",
    "print('Train labels shape: ', y_train.shape)\n",
    "print('Validation data shape: ', X_val.shape)\n",
    "print('Validation labels shape: ', y_val.shape)\n",
    "print('Test data shape: ', X_test.shape)\n",
    "print('Test labels shape: ', y_test.shape)\n",
    "print('dev data shape: ', X_dev.shape)\n",
    "print('dev labels shape: ', y_dev.shape)"
   ]
  },
  {
   "cell_type": "markdown",
   "metadata": {},
   "source": [
    "## Softmax Classifier\n",
    "\n",
    "Your code for this section will all be written inside **cs231n/classifiers/softmax.py**. \n"
   ]
  },
  {
   "cell_type": "code",
   "execution_count": 33,
   "metadata": {},
   "outputs": [
    {
     "name": "stdout",
     "output_type": "stream",
     "text": [
      "loss: 2.319654\n",
      "sanity check: 2.302585\n"
     ]
    }
   ],
   "source": [
    "# First implement the naive softmax loss function with nested loops.\n",
    "# Open the file cs231n/classifiers/softmax.py and implement the\n",
    "# softmax_loss_naive function.\n",
    "\n",
    "from cs231n.classifiers.softmax import softmax_loss_naive\n",
    "import time\n",
    "\n",
    "# Generate a random softmax weight matrix and use it to compute the loss.\n",
    "W = np.random.randn(3073, 10) * 0.0001\n",
    "loss, grad = softmax_loss_naive(W, X_dev, y_dev, 0.0)\n",
    "\n",
    "# As a rough sanity check, our loss should be something close to -log(0.1).\n",
    "print('loss: %f' % loss)\n",
    "print('sanity check: %f' % (-np.log(0.1)))"
   ]
  },
  {
   "cell_type": "markdown",
   "metadata": {},
   "source": [
    "## Inline Question 1:\n",
    "Why do we expect our loss to be close to -log(0.1)? Explain briefly.**\n",
    "\n",
    "**Your answer:** \n",
    "Softmax Loss 的公式为$Loss = - \\sum y_i log(s_i)$，其中$y_i$只有对应真实标签时才为1，其余为0。\n",
    "\n",
    "由于权重矩阵 $W$ 是随机生成的，所以对每一个输入 $X$，经过 Softmax 函数归一化的预测值的每一个分量应该是几乎相等的。而 Softmax 函数值所有分量之和为 1，即真实标签的分量应该接近于0.1，所以 loss 接近于 $-log(0.1)$。"
   ]
  },
  {
   "cell_type": "code",
   "execution_count": 35,
   "metadata": {},
   "outputs": [
    {
     "name": "stdout",
     "output_type": "stream",
     "text": [
      "numerical: 0.956618 analytic: 0.956618, relative error: 5.681943e-08\n",
      "numerical: 1.394629 analytic: 1.394629, relative error: 1.352459e-08\n",
      "numerical: -1.096774 analytic: -1.096774, relative error: 3.735247e-08\n",
      "numerical: 1.089913 analytic: 1.089913, relative error: 3.505453e-10\n",
      "numerical: -2.261833 analytic: -2.261834, relative error: 2.872797e-08\n",
      "numerical: 1.663391 analytic: 1.663391, relative error: 1.690266e-08\n",
      "numerical: -1.097503 analytic: -1.097503, relative error: 7.154301e-09\n",
      "numerical: 4.736895 analytic: 4.736895, relative error: 8.515145e-09\n",
      "numerical: 1.139438 analytic: 1.139438, relative error: 1.206014e-08\n",
      "numerical: -1.498895 analytic: -1.498895, relative error: 3.203210e-09\n",
      "numerical: -2.005397 analytic: -1.960302, relative error: 1.137137e-02\n",
      "numerical: 2.064304 analytic: 2.106547, relative error: 1.012817e-02\n",
      "numerical: 3.537394 analytic: 3.828471, relative error: 3.951697e-02\n",
      "numerical: 0.040877 analytic: 0.253279, relative error: 7.220735e-01\n",
      "numerical: -1.307244 analytic: -1.432033, relative error: 4.555557e-02\n",
      "numerical: -0.614181 analytic: -0.449121, relative error: 1.552331e-01\n",
      "numerical: -0.781404 analytic: -0.745991, relative error: 2.318470e-02\n",
      "numerical: -0.689269 analytic: -0.893375, relative error: 1.289653e-01\n",
      "numerical: -1.380466 analytic: -1.223215, relative error: 6.039564e-02\n",
      "numerical: -1.165359 analytic: -0.932905, relative error: 1.107837e-01\n"
     ]
    }
   ],
   "source": [
    "# Complete the implementation of softmax_loss_naive and implement a (naive)\n",
    "# version of the gradient that uses nested loops.\n",
    "loss, grad = softmax_loss_naive(W, X_dev, y_dev, 0.0)\n",
    "\n",
    "# As we did for the SVM, use numeric gradient checking as a debugging tool.\n",
    "# The numeric gradient should be close to the analytic gradient.\n",
    "from cs231n.gradient_check import grad_check_sparse\n",
    "f = lambda w: softmax_loss_naive(w, X_dev, y_dev, 0.0)[0]\n",
    "grad_numerical = grad_check_sparse(f, W, grad, 10)\n",
    "\n",
    "# similar to SVM case, do another gradient check with regularization\n",
    "loss, grad = softmax_loss_naive(W, X_dev, y_dev, 5e1)\n",
    "f = lambda w: softmax_loss_naive(w, X_dev, y_dev, 5e1)[0]\n",
    "grad_numerical = grad_check_sparse(f, W, grad, 10)"
   ]
  },
  {
   "cell_type": "code",
   "execution_count": 58,
   "metadata": {},
   "outputs": [
    {
     "name": "stdout",
     "output_type": "stream",
     "text": [
      "naive loss: 2.310766e+00 computed in 0.109486s\n",
      "vectorized loss: 2.310766e+00 computed in 0.012672s\n",
      "Loss difference: 0.000000\n",
      "Gradient difference: 0.000000\n"
     ]
    }
   ],
   "source": [
    "# Now that we have a naive implementation of the softmax loss function and its gradient,\n",
    "# implement a vectorized version in softmax_loss_vectorized.\n",
    "# The two versions should compute the same results, but the vectorized version should be\n",
    "# much faster.\n",
    "tic = time.time()\n",
    "loss_naive, grad_naive = softmax_loss_naive(W, X_dev, y_dev, 0.000005)\n",
    "toc = time.time()\n",
    "print('naive loss: %e computed in %fs' % (loss_naive, toc - tic))\n",
    "\n",
    "from cs231n.classifiers.softmax import softmax_loss_vectorized\n",
    "tic = time.time()\n",
    "loss_vectorized, grad_vectorized = softmax_loss_vectorized(W, X_dev, y_dev, 0.000005)\n",
    "toc = time.time()\n",
    "print('vectorized loss: %e computed in %fs' % (loss_vectorized, toc - tic))\n",
    "\n",
    "# As we did for the SVM, we use the Frobenius norm to compare the two versions\n",
    "# of the gradient.\n",
    "grad_difference = np.linalg.norm(grad_naive - grad_vectorized, ord='fro')\n",
    "print('Loss difference: %f' % np.abs(loss_naive - loss_vectorized))\n",
    "print('Gradient difference: %f' % grad_difference)"
   ]
  },
  {
   "cell_type": "code",
   "execution_count": 75,
   "metadata": {},
   "outputs": [
    {
     "name": "stdout",
     "output_type": "stream",
     "text": [
      "iteration 0 / 2000: loss 2191.806913\n",
      "iteration 100 / 2000: loss 1702.868663\n",
      "iteration 200 / 2000: loss 1324.380325\n",
      "iteration 300 / 2000: loss 1030.613194\n",
      "iteration 400 / 2000: loss 801.915784\n",
      "iteration 500 / 2000: loss 624.570394\n",
      "iteration 600 / 2000: loss 486.618845\n",
      "iteration 700 / 2000: loss 379.647402\n",
      "iteration 800 / 2000: loss 296.447470\n",
      "iteration 900 / 2000: loss 231.996225\n",
      "iteration 1000 / 2000: loss 182.158797\n",
      "iteration 1100 / 2000: loss 143.664855\n",
      "iteration 1200 / 2000: loss 114.237234\n",
      "iteration 1300 / 2000: loss 91.739368\n",
      "iteration 1400 / 2000: loss 75.068449\n",
      "iteration 1500 / 2000: loss 62.411229\n",
      "iteration 1600 / 2000: loss 53.470868\n",
      "iteration 1700 / 2000: loss 47.227897\n",
      "iteration 1800 / 2000: loss 42.900500\n",
      "iteration 1900 / 2000: loss 40.150956\n",
      "iteration 0 / 2000: loss 4375.328241\n",
      "iteration 100 / 2000: loss 2646.575533\n",
      "iteration 200 / 2000: loss 1602.301617\n",
      "iteration 300 / 2000: loss 970.907710\n",
      "iteration 400 / 2000: loss 589.519141\n",
      "iteration 500 / 2000: loss 359.542942\n",
      "iteration 600 / 2000: loss 221.605990\n",
      "iteration 700 / 2000: loss 140.082768\n",
      "iteration 800 / 2000: loss 93.514491\n",
      "iteration 900 / 2000: loss 68.862451\n",
      "iteration 1000 / 2000: loss 57.195965\n",
      "iteration 1100 / 2000: loss 52.272745\n",
      "iteration 1200 / 2000: loss 50.277759\n",
      "iteration 1300 / 2000: loss 49.365129\n",
      "iteration 1400 / 2000: loss 49.342258\n",
      "iteration 1500 / 2000: loss 49.076759\n",
      "iteration 1600 / 2000: loss 48.697316\n",
      "iteration 1700 / 2000: loss 48.793876\n",
      "iteration 1800 / 2000: loss 49.153068\n",
      "iteration 1900 / 2000: loss 48.746473\n",
      "iteration 0 / 2000: loss 2193.152345\n",
      "iteration 100 / 2000: loss 621.299804\n",
      "iteration 200 / 2000: loss 180.325889\n",
      "iteration 300 / 2000: loss 61.983511\n",
      "iteration 400 / 2000: loss 38.341489\n",
      "iteration 500 / 2000: loss 35.814955\n",
      "iteration 600 / 2000: loss 35.967391\n",
      "iteration 700 / 2000: loss 36.149015\n",
      "iteration 800 / 2000: loss 35.978151\n",
      "iteration 900 / 2000: loss 35.577453\n",
      "iteration 1000 / 2000: loss 35.688359\n",
      "iteration 1100 / 2000: loss 36.094172\n",
      "iteration 1200 / 2000: loss 35.943472\n",
      "iteration 1300 / 2000: loss 35.832541\n",
      "iteration 1400 / 2000: loss 36.568940\n",
      "iteration 1500 / 2000: loss 36.459540\n",
      "iteration 1600 / 2000: loss 36.634632\n",
      "iteration 1700 / 2000: loss 35.794210\n",
      "iteration 1800 / 2000: loss 35.899908\n",
      "iteration 1900 / 2000: loss 35.937368\n",
      "iteration 0 / 2000: loss 4369.835098\n",
      "iteration 100 / 2000: loss 349.782726\n",
      "iteration 200 / 2000: loss 57.420124\n",
      "iteration 300 / 2000: loss 49.085039\n",
      "iteration 400 / 2000: loss 49.614689\n",
      "iteration 500 / 2000: loss 49.246362\n",
      "iteration 600 / 2000: loss 50.447576\n",
      "iteration 700 / 2000: loss 50.397732\n",
      "iteration 800 / 2000: loss 49.677136\n",
      "iteration 900 / 2000: loss 49.986270\n",
      "iteration 1000 / 2000: loss 49.520691\n",
      "iteration 1100 / 2000: loss 50.080309\n",
      "iteration 1200 / 2000: loss 49.423828\n",
      "iteration 1300 / 2000: loss 49.385875\n",
      "iteration 1400 / 2000: loss 49.365260\n",
      "iteration 1500 / 2000: loss 49.597794\n",
      "iteration 1600 / 2000: loss 50.055315\n",
      "iteration 1700 / 2000: loss 49.735170\n",
      "iteration 1800 / 2000: loss 49.381600\n",
      "iteration 1900 / 2000: loss 49.618379\n",
      "lr 1.000000e-07 reg 2.500000e+04 train accuracy: 0.348653 val accuracy: 0.367000\n",
      "lr 1.000000e-07 reg 5.000000e+04 train accuracy: 0.326755 val accuracy: 0.344000\n",
      "lr 5.000000e-07 reg 2.500000e+04 train accuracy: 0.338000 val accuracy: 0.352000\n",
      "lr 5.000000e-07 reg 5.000000e+04 train accuracy: 0.335245 val accuracy: 0.354000\n",
      "best validation accuracy achieved during cross-validation: 0.367000\n"
     ]
    }
   ],
   "source": [
    "# Use the validation set to tune hyperparameters (regularization strength and\n",
    "# learning rate). You should experiment with different ranges for the learning\n",
    "# rates and regularization strengths; if you are careful you should be able to\n",
    "# get a classification accuracy of over 0.35 on the validation set.\n",
    "from cs231n.classifiers import Softmax\n",
    "results = {}\n",
    "best_val = -1\n",
    "best_softmax = None\n",
    "learning_rates = [1e-7, 5e-7]\n",
    "regularization_strengths = [2.5e4, 5e4]\n",
    "\n",
    "################################################################################\n",
    "# TODO:                                                                        #\n",
    "# Use the validation set to set the learning rate and regularization strength. #\n",
    "# This should be identical to the validation that you did for the SVM; save    #\n",
    "# the best trained softmax classifer in best_softmax.                          #\n",
    "################################################################################\n",
    "for lr in learning_rates:\n",
    "    for reg in regularization_strengths:\n",
    "        trainer = Softmax()\n",
    "        trainer.train(X_train, y_train, learning_rate=lr, reg=reg, num_iters=2000, verbose=True)\n",
    "        train_accuracy = np.mean(y_train == trainer.predict(X_train))\n",
    "        val_accuracy = np.mean(y_val == trainer.predict(X_val))\n",
    "        results[(lr, reg)] = (train_accuracy, val_accuracy)\n",
    "        if val_accuracy > best_val:\n",
    "            best_val = val_accuracy\n",
    "            best_softmax = trainer\n",
    "\n",
    "        \n",
    "################################################################################\n",
    "#                              END OF YOUR CODE                                #\n",
    "################################################################################\n",
    "    \n",
    "# Print out results.\n",
    "for lr, reg in sorted(results):\n",
    "    train_accuracy, val_accuracy = results[(lr, reg)]\n",
    "    print('lr %e reg %e train accuracy: %f val accuracy: %f' % (\n",
    "                lr, reg, train_accuracy, val_accuracy))\n",
    "    \n",
    "print('best validation accuracy achieved during cross-validation: %f' % best_val)"
   ]
  },
  {
   "cell_type": "code",
   "execution_count": 73,
   "metadata": {},
   "outputs": [
    {
     "name": "stdout",
     "output_type": "stream",
     "text": [
      "softmax on raw pixels final test set accuracy: 0.349000\n"
     ]
    }
   ],
   "source": [
    "# evaluate on test set\n",
    "# Evaluate the best softmax on test set\n",
    "y_test_pred = best_softmax.predict(X_test)\n",
    "test_accuracy = np.mean(y_test == y_test_pred)\n",
    "print('softmax on raw pixels final test set accuracy: %f' % (test_accuracy, ))"
   ]
  },
  {
   "cell_type": "markdown",
   "metadata": {},
   "source": [
    "**Inline Question** - *True or False*\n",
    "\n",
    "It's possible to add a new datapoint to a training set that would leave the SVM loss unchanged, but this is not the case with the Softmax classifier loss.\n",
    "\n",
    "*Your answer*: True\n",
    "\n",
    "*Your explanation*: SVM 只要数据点距离超平面间距超过 1 后，就没有 loss；而 Softmax 无论数据点如何都有 loss。"
   ]
  },
  {
   "cell_type": "code",
   "execution_count": 76,
   "metadata": {},
   "outputs": [
    {
     "data": {
      "image/png": "[encoded data removed]",
      "text/plain": [
       "<Figure size 432x288 with 10 Axes>"
      ]
     },
     "metadata": {
      "needs_background": "light"
     },
     "output_type": "display_data"
    }
   ],
   "source": [
    "# Visualize the learned weights for each class\n",
    "w = best_softmax.W[:-1,:] # strip out the bias\n",
    "w = w.reshape(32, 32, 3, 10)\n",
    "\n",
    "w_min, w_max = np.min(w), np.max(w)\n",
    "\n",
    "classes = ['plane', 'car', 'bird', 'cat', 'deer', 'dog', 'frog', 'horse', 'ship', 'truck']\n",
    "for i in range(10):\n",
    "    plt.subplot(2, 5, i + 1)\n",
    "    \n",
    "    # Rescale the weights to be between 0 and 255\n",
    "    wimg = 255.0 * (w[:, :, :, i].squeeze() - w_min) / (w_max - w_min)\n",
    "    plt.imshow(wimg.astype('uint8'))\n",
    "    plt.axis('off')\n",
    "    plt.title(classes[i])"
   ]
  },
  {
   "cell_type": "code",
   "execution_count": null,
   "metadata": {},
   "outputs": [],
   "source": []
  }
 ],
 "metadata": {
  "kernelspec": {
   "display_name": "Python 3",
   "language": "python",
   "name": "python3"
  },
  "language_info": {
   "codemirror_mode": {
    "name": "ipython",
    "version": 3
   },
   "file_extension": ".py",
   "mimetype": "text/x-python",
   "name": "python",
   "nbconvert_exporter": "python",
   "pygments_lexer": "ipython3",
   "version": "3.6.6"
  }
 },
 "nbformat": 4,
 "nbformat_minor": 1
}
