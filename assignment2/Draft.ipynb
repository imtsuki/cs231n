{
 "cells": [
  {
   "cell_type": "code",
   "execution_count": 1,
   "metadata": {},
   "outputs": [],
   "source": [
    "# As usual, a bit of setup\n",
    "import time\n",
    "import numpy as np\n",
    "import matplotlib.pyplot as plt\n",
    "from boxx import *\n",
    "from cs231n.classifiers.fc_net import *\n",
    "from cs231n.data_utils import get_CIFAR10_data\n",
    "from cs231n.gradient_check import eval_numerical_gradient, eval_numerical_gradient_array\n",
    "from cs231n.solver import Solver\n",
    "\n",
    "%matplotlib inline\n",
    "plt.rcParams['figure.figsize'] = (10.0, 8.0) # set default size of plots\n",
    "plt.rcParams['image.interpolation'] = 'nearest'\n",
    "plt.rcParams['image.cmap'] = 'gray'\n",
    "\n",
    "# for auto-reloading external modules\n",
    "# see http://stackoverflow.com/questions/1907993/autoreload-of-modules-in-ipython\n",
    "%load_ext autoreload\n",
    "%autoreload 2"
   ]
  },
  {
   "cell_type": "code",
   "execution_count": 2,
   "metadata": {},
   "outputs": [],
   "source": [
    "np.random.seed(231)\n",
    "N, D = 4, 5\n",
    "x = 5 * np.random.randn(N, D) + 12 # (N, D)\n",
    "gamma = np.random.randn(D)         # (D,)\n",
    "beta = np.random.randn(D)          # (D,)\n",
    "dout = np.random.randn(N, D)       # (N, D)\n",
    "\n",
    "bn_param = {'mode': 'train'}\n",
    "\n",
    "_, cache = batchnorm_forward(x, gamma, beta, bn_param)\n",
    "dx, dgamma, dbeta = batchnorm_backward(dout, cache)"
   ]
  },
  {
   "cell_type": "code",
   "execution_count": 18,
   "metadata": {},
   "outputs": [],
   "source": [
    "x, x_normalized, gamma, beta, mu, var, eps = cache\n",
    "    \n",
    "dbeta = np.sum(1. * dout, axis=0)                                    # (D,)\n",
    "dgamma_x_normalized = 1. * dout                                      # (N, D)\n",
    "dgamma = np.sum(x_normalized * dgamma_x_normalized, axis=0)          # (D,)\n",
    "dx_normalized = gamma * dgamma_x_normalized                          # (N, D)\n",
    "dx_minus_mu_route_1 = 1. / np.sqrt(var + eps) * dx_normalized        # (N, D)\n",
    "d1_over_sqrt_var_plus_eps = np.sum((x - mu) * dx_normalized, axis=0) #(D,)\n",
    "dsqrt_var_plus_eps = -1. / (var + eps) * d1_over_sqrt_var_plus_eps   #(D,)\n",
    "dvar = 0.5 * 1. /np.sqrt(var + eps) * dsqrt_var_plus_eps             # (D,)\n",
    "dx_minus_mu_squared = 1. / N * np.ones((N, D)) * dvar                # (D,) -> (N, D)\n",
    "dx_minus_mu_route_2 = 2. * (x - mu) * dx_minus_mu_squared            # (N, D)\n",
    "dx_minus_mu = dx_minus_mu_route_1 + dx_minus_mu_route_2              # (N, D)\n",
    "dmu = -1. * np.sum(dx_minus_mu, axis=0)                              # (D,)\n",
    "dx_route_1 = 1. * dmu                                                # (N, D)\n",
    "dx_route_2 = 1. / N * np.ones((N, D)) * dmu                          # (D,) -> (N, D)\n",
    "dx = dx_route_1 + dx_route_2                                         # (N, D)"
   ]
  },
  {
   "cell_type": "markdown",
   "metadata": {},
   "source": [
    "# Shapes\n",
    "```\n",
    "x            (N, D)\n",
    "x_normalized (N, D)\n",
    "gamma        (D,)\n",
    "beta         (D,)\n",
    "mu           (D,)\n",
    "sigma        (D,)\n",
    "eps           1\n",
    "\n",
    "dbeta        (D,)\n",
    "dgamma_x_normalized (N, D)\n",
    "dgamma       (D,)\n",
    "dx_normalized(N, D)\n",
    "```"
   ]
  },
  {
   "cell_type": "code",
   "execution_count": 16,
   "metadata": {},
   "outputs": [
    {
     "name": "stdout",
     "output_type": "stream",
     "text": [
      "(4, 5)\n"
     ]
    }
   ],
   "source": [
    "print(dx_minus_mu.shape)"
   ]
  },
  {
   "cell_type": "code",
   "execution_count": 32,
   "metadata": {},
   "outputs": [
    {
     "data": {
      "text/plain": [
       "array([[0., 0., 1., 1., 1.],\n",
       "       [1., 1., 1., 1., 0.],\n",
       "       [1., 0., 0., 1., 0.],\n",
       "       [0., 1., 1., 1., 1.]])"
      ]
     },
     "execution_count": 32,
     "metadata": {},
     "output_type": "execute_result"
    }
   ],
   "source": [
    "(np.random.rand(*x.shape) < p) / p"
   ]
  },
  {
   "cell_type": "code",
   "execution_count": 22,
   "metadata": {},
   "outputs": [],
   "source": [
    "p = 0.5"
   ]
  },
  {
   "cell_type": "code",
   "execution_count": null,
   "metadata": {},
   "outputs": [],
   "source": []
  }
 ],
 "metadata": {
  "kernelspec": {
   "display_name": "Python 3",
   "language": "python",
   "name": "python3"
  },
  "language_info": {
   "codemirror_mode": {
    "name": "ipython",
    "version": 3
   },
   "file_extension": ".py",
   "mimetype": "text/x-python",
   "name": "python",
   "nbconvert_exporter": "python",
   "pygments_lexer": "ipython3",
   "version": "3.6.8"
  }
 },
 "nbformat": 4,
 "nbformat_minor": 2
}
